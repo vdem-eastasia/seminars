{
 "cells": [
  {
   "cell_type": "markdown",
   "metadata": {},
   "source": [
    "# R言語の開発環境の構築\n",
    "\n",
    "この文書では、R言語による開発環境を自分のPC上に構築する方法を説明します。\n",
    "開発環境の構築方法は多数ありますが、ここで採用する方法は最もシンプルな方法の１つだと考えています。\n",
    "具体的には、下記の５ステップを行います。\n",
    "\n",
    "1. Rをインストール\n",
    "1. RStudioをインストール\n",
    "1. 統計分析用のRパッケージをインストール\n",
    "1. Minicondaをインストール\n",
    "1. MinicondaにR用の環境を作る\n",
    "\n",
    "ここで、ステップ４〜５はJupyter Notebookを利用する場合のみ必要です。\n",
    "Rの開発環境としてはRStudioが最も一般的ですが、Jupyter NotebookはPythonなどの多言語でよく使用されることや、分析結果の共有がしやすいなどの点で有用であるため、合わせてインストールします。"
   ]
  },
  {
   "cell_type": "markdown",
   "metadata": {},
   "source": [
    "# R をインストール\n",
    "\n",
    "手順をOSごとに説明します。Windows, Mac OSX, Ubuntuをカバーしています。Ubuntu以外のLinuxについては割愛します。"
   ]
  },
  {
   "cell_type": "markdown",
   "metadata": {},
   "source": [
    "## Windows\n",
    "\n",
    "R 並びに Rtools を下記の手順に従ってインストール。\n",
    "\n",
    "### R\n",
    "\n",
    "[CRAN](https://cran.r-project.org/bin/windows/base/) から、最新の .exeファイルをダウンロードします（2020/2/24時点ではVersion 3.6.2）。\n",
    "これを実行するとインストーラーが起動するので、画面に従いインストールします。\n",
    "特にデフォルトの設定を変更する必要はありません。\n",
    "\n",
    "### Rtools\n",
    "\n",
    "[CRAN](https://cran.r-project.org/bin/windows/Rtools/) から、現時点の安定版（recommended）となっているものをダウンロードします（2020/2/24時点ではVersion35）。\n",
    "これを実行するとインストーラーが起動するので、画面に従いインストールします。\n",
    "特にデフォルトの設定を変更する必要はありません。\n",
    "Rtools は特にパッケージ開発において必要となります。"
   ]
  },
  {
   "cell_type": "markdown",
   "metadata": {},
   "source": [
    "## Mac OSX\n",
    "\n",
    "### XQuartz\n",
    "\n",
    "MacでRを使用するには、XQuartzが必要です（以前はOSに含まれていましたが、Mac OSX 10.8から外されたとのことです）。\n",
    "[xquartz](https://www.xquartz.org/) のページから、ソフトウェアパッケージを取得し、インストーラに従ってインストールし、Applicationフォルダへ移します。\n",
    "\n",
    "### R\n",
    "\n",
    "[CRAN](https://cran.r-project.org/bin/macosx/) から、最新の .pkgファイルをダウンロードします（2020/2/2時点ではVersion 3.6.2）。これを実行するとインストーラーが起動するので、画面に従い、最後に R を Applicationフォルダへ移します。"
   ]
  },
  {
   "cell_type": "markdown",
   "metadata": {},
   "source": [
    "## Ubuntu\n",
    "\n",
    "[CRAN](https://cran.r-project.org/bin/linux/ubuntu/) の手順に従います。\n",
    "Terminalから、\n",
    "\n",
    "```bash\n",
    "$ osversion=$(lsb_release -a | grep Codename | cut -d $'\\t' -f 2)  # obtain bionic, trusty...\n",
    "$ sudo echo deb \"https://cloud.r-project.org/bin/linux/ubuntu $osversion-cran35/\" >> /etc/apt/sources.list\n",
    "$ sudo apt-key adv --keyserver keyserver.ubuntu.com --recv-keys E298A3A825C0D65DFD57CBB651716619E084DAB9\n",
    "$ sudo apt update && sudo apt install -y r-base\n",
    "```"
   ]
  },
  {
   "cell_type": "markdown",
   "metadata": {},
   "source": [
    "# RStudioをインストール"
   ]
  },
  {
   "cell_type": "markdown",
   "metadata": {},
   "source": [
    "## Windows\n",
    "\n",
    "[RStudio](https://rstudio.com/products/rstudio/download/#download) から、Windows用の .exeファイルをダウンロードし、実行します。起動するインストーラーに従いインストールします。"
   ]
  },
  {
   "cell_type": "markdown",
   "metadata": {},
   "source": [
    "## Mac OSX\n",
    "\n",
    "[RStudio](https://rstudio.com/products/rstudio/download/#download) から、macOSX用の .dmgファイルをダウンロードし、実行します。インストーラーに従い、最後にRStudioをApplicationフォルダへ移動します。"
   ]
  },
  {
   "cell_type": "markdown",
   "metadata": {},
   "source": [
    "## Ubuntu\n",
    "\n",
    "[RStudio](https://rstudio.com/products/rstudio/download/#download) から、対応する .debファイルをダウンロード。\n",
    "Terminalから、\n",
    "\n",
    "```bash\n",
    "$ sudo gdebi <deb file path>\n",
    "```\n"
   ]
  },
  {
   "cell_type": "markdown",
   "metadata": {},
   "source": [
    "# 統計分析用のRパッケージをインストール"
   ]
  },
  {
   "cell_type": "markdown",
   "metadata": {
    "ExecuteTime": {
     "end_time": "2020-02-01T20:00:40.296911Z",
     "start_time": "2020-02-01T20:00:40.293396Z"
    }
   },
   "source": [
    "## Ubuntuの場合のみ\n",
    "\n",
    "外部ソフトウェアに依存するソフトウェアが多数存在し、それらのインストールが必要です。下記コマンドで主要な部分がカバーできます。\n",
    "\n",
    "```bash\n",
    "$ sudo apt install -y libcurl4-openssl-dev libxml2-dev libssl-dev libfontconfig1-dev libcairo2-dev\n",
    "```"
   ]
  },
  {
   "cell_type": "markdown",
   "metadata": {},
   "source": [
    "## OS共通\n",
    "\n",
    "RStudio (R でも可) を立ち上げます。Console に、下記コマンドを入力します。\n",
    "\n",
    "<TODO: プロンプトへの応対を補足>\n",
    "<TODO: ライブラリの過不足を確認>\n",
    "```r\n",
    "> install.packages(c(\"devtools\", \"magrittr\", \"dplyr\", \"ggplot2\", \"readr\", \"Rcpp\", \"openxlsx\", \"DBI\", \"RSQLite\", \"sqldf\", \"readxl\", \"combiter\", \"stringr\", \"striprtf\", \"reshape2\", \"tidyr\", \"ggiraphExtra\", \"GGally\", \"ggfortify\", \"gridExtra\", \"IRkernel\", \"testthat\"))\n",
    "```"
   ]
  },
  {
   "cell_type": "markdown",
   "metadata": {},
   "source": [
    "# Minicondaをインストール\n",
    "\n",
    "インストール方法は[こちら](0.2_setup-miniconda.ipynb)を参照。\n",
    "\n",
    "なお、ここでは Jupyter Notebook を使用する目的でMinicondaを利用します。\n",
    "Jupyter Notebookは、もともとはブラウザ上で動くPythonのための分析環境でしたが、いまではRを含む他言語にも拡張されています。"
   ]
  },
  {
   "cell_type": "markdown",
   "metadata": {},
   "source": [
    "# MinicondaにR用の環境を作る\n",
    "\n",
    "## 環境を作成\n",
    "\n",
    "Jupyter Notebookでは「環境（environment）」を作り、各環境に異なるパッケージ群をインストールしてプロジェクトや目的に応じて使い分けることができます。これにより、依存関係によるパッケージ間の不適合を避けることができます。\n",
    "そこで、ここではRで用に１つの環境を作成して使用することにします。\n",
    "\n",
    "Windowsでは Anaconda Promptを、Mac OSXとUbuntuではTerminalを開きます。下記のコマンドにより、環境を作成し、そこにJupyter Notebookがインストールされます。なお、`rdev` は環境の名前で任意です。\n",
    "\n",
    "```bash\n",
    "$ conda create -n rdev -y 'python>=3' jupyter\n",
    "```"
   ]
  },
  {
   "cell_type": "markdown",
   "metadata": {
    "ExecuteTime": {
     "end_time": "2020-02-01T23:06:02.996269Z",
     "start_time": "2020-02-01T23:06:02.993899Z"
    }
   },
   "source": [
    "## R用のカーネルを追加する\n",
    "\n",
    "JupyterはデフォルトではPythonだけしか使えません。R用の「カーネル」をインストールすることで、R言語を使えるようになります。\n",
    "\n",
    "Windowsでは Anaconda Prompt、Mac OSXとUbuntuではTerminalで、下記のコマンドを入力します。\n",
    "\n",
    "```bash\n",
    "$ conda activate rdev && Rscript -e \"IRkernel::installspec()\"\n",
    "```"
   ]
  },
  {
   "cell_type": "markdown",
   "metadata": {},
   "source": [
    "## 動作確認\n",
    "\n",
    "Windowsでは Anaconda Prompt、Mac OSXとUbuntuではTerminalで、下記のコマンドを入力すると、Jupyter Notebookが立ち上がり、規定のウェブブラウザが開きます。\n",
    "\n",
    "```bash\n",
    "$ conda activate rdev && jupyter notebook\n",
    "```\n",
    "\n",
    "画面右上の \"New\" というボタンをクリックして、Python の他に R が出ていればカーネルが追加されています。\n",
    "\n",
    "<img src=\"images/jupyter-with-r.png\" width=\"700\">"
   ]
  },
  {
   "cell_type": "markdown",
   "metadata": {},
   "source": [
    "ここで R をクリックすると、新しいノートブックが開きます。\"In [ ]:\" と書かれたセルにRの命令を入力し、 \"Shift\" を押しながら \"Enter\"キーを押して、結果が正しく表示されれば完了です。\n",
    "\n",
    "<img src=\"images/notebook-r.png\" width=\"700\">"
   ]
  }
 ],
 "metadata": {
  "kernelspec": {
   "display_name": "Python 3",
   "language": "python",
   "name": "python3"
  },
  "language_info": {
   "codemirror_mode": {
    "name": "ipython",
    "version": 3
   },
   "file_extension": ".py",
   "mimetype": "text/x-python",
   "name": "python",
   "nbconvert_exporter": "python",
   "pygments_lexer": "ipython3",
   "version": "3.8.1"
  },
  "toc": {
   "base_numbering": 1,
   "nav_menu": {},
   "number_sections": true,
   "sideBar": true,
   "skip_h1_title": false,
   "title_cell": "Table of Contents",
   "title_sidebar": "Contents",
   "toc_cell": false,
   "toc_position": {
    "height": "calc(100% - 180px)",
    "left": "10px",
    "top": "150px",
    "width": "310px"
   },
   "toc_section_display": true,
   "toc_window_display": true
  }
 },
 "nbformat": 4,
 "nbformat_minor": 2
}
