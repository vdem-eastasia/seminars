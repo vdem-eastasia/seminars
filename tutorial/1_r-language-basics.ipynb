{
 "cells": [
  {
   "cell_type": "markdown",
   "metadata": {},
   "source": [
    "このノートブックでは、R言語のによるプログラミングの基礎をカバーします。\n",
    "\n",
    "ノートブックはJupyter Notebookで書かれています。\n",
    "Jupyter Notebookはコードと文章の入り混じった文書を作るのに適した形式です。\n",
    "ノートブックの各箱のことを「**セル**」と呼びますが、セルの中で「Shift+Enter」あるいは「Ctrl+Enter」を同時押し、もしくは上部の「Run」ボタンをクリックすると、セルの中身が実行されます。\n",
    "\n",
    "セルが「**Code**」タイプの場合、中身はプログラミングコードとして実行され、その結果が下に表示されます。\n",
    "セルが「**Markdown**」タイプの場合、中身はMarkdownのコードとして解釈され、文章に変換されます。\n",
    "セルのタイプは上部のセレクトボックスから変更可能です。\n",
    "![buttons](images/buttons.png)\n",
    "\n",
    "まずは、次のセルを実行し、きちんと結果が表示されることを確認してください。「Welcome!」と表示されれば成功です。"
   ]
  },
  {
   "cell_type": "code",
   "execution_count": null,
   "metadata": {
    "ExecuteTime": {
     "end_time": "2020-03-07T01:18:42.785278Z",
     "start_time": "2020-03-07T01:18:42.766Z"
    }
   },
   "outputs": [],
   "source": [
    "cat(\"Welcome!\\n\")"
   ]
  },
  {
   "cell_type": "markdown",
   "metadata": {},
   "source": [
    "# R言語の基礎"
   ]
  },
  {
   "cell_type": "markdown",
   "metadata": {},
   "source": [
    "## 数理演算\n",
    "\n",
    "まずは数学で通常使う演算を実行してみましょう。加減乗除の四則演算は `+`, `-`, `*`, `/` で表現できます。カッコの使って演算の順序を指定することもできます。"
   ]
  },
  {
   "cell_type": "code",
   "execution_count": 23,
   "metadata": {
    "ExecuteTime": {
     "end_time": "2020-03-08T11:44:02.215354Z",
     "start_time": "2020-03-08T11:44:02.200Z"
    }
   },
   "outputs": [
    {
     "data": {
      "text/html": [
       "2"
      ],
      "text/latex": [
       "2"
      ],
      "text/markdown": [
       "2"
      ],
      "text/plain": [
       "[1] 2"
      ]
     },
     "metadata": {},
     "output_type": "display_data"
    }
   ],
   "source": [
    "1 + 1"
   ]
  },
  {
   "cell_type": "code",
   "execution_count": 22,
   "metadata": {
    "ExecuteTime": {
     "end_time": "2020-03-08T11:43:55.652375Z",
     "start_time": "2020-03-08T11:43:55.631Z"
    }
   },
   "outputs": [
    {
     "data": {
      "text/html": [
       "10"
      ],
      "text/latex": [
       "10"
      ],
      "text/markdown": [
       "10"
      ],
      "text/plain": [
       "[1] 10"
      ]
     },
     "metadata": {},
     "output_type": "display_data"
    }
   ],
   "source": [
    "(1 + 1/9) * 9"
   ]
  },
  {
   "cell_type": "markdown",
   "metadata": {
    "ExecuteTime": {
     "end_time": "2020-03-08T11:42:55.992363Z",
     "start_time": "2020-03-08T11:42:55.976Z"
    }
   },
   "source": [
    "Rでは通常数は実数として扱われます。そのため、整数と実数型の違いに注意する必要は通常ありません。"
   ]
  },
  {
   "cell_type": "code",
   "execution_count": 26,
   "metadata": {
    "ExecuteTime": {
     "end_time": "2020-03-08T11:44:27.019388Z",
     "start_time": "2020-03-08T11:44:26.996Z"
    }
   },
   "outputs": [
    {
     "data": {
      "text/html": [
       "0.333333333333333"
      ],
      "text/latex": [
       "0.333333333333333"
      ],
      "text/markdown": [
       "0.333333333333333"
      ],
      "text/plain": [
       "[1] 0.3333333"
      ]
     },
     "metadata": {},
     "output_type": "display_data"
    }
   ],
   "source": [
    "1 / 3"
   ]
  },
  {
   "cell_type": "markdown",
   "metadata": {
    "ExecuteTime": {
     "end_time": "2020-03-07T01:19:24.645565Z",
     "start_time": "2020-03-07T01:19:24.622Z"
    }
   },
   "source": [
    "累乗は `^` で表現します。"
   ]
  },
  {
   "cell_type": "code",
   "execution_count": 27,
   "metadata": {
    "ExecuteTime": {
     "end_time": "2020-03-08T11:44:50.801184Z",
     "start_time": "2020-03-08T11:44:50.784Z"
    }
   },
   "outputs": [
    {
     "data": {
      "text/html": [
       "2048"
      ],
      "text/latex": [
       "2048"
      ],
      "text/markdown": [
       "2048"
      ],
      "text/plain": [
       "[1] 2048"
      ]
     },
     "metadata": {},
     "output_type": "display_data"
    }
   ],
   "source": [
    "2^11"
   ]
  },
  {
   "cell_type": "markdown",
   "metadata": {
    "ExecuteTime": {
     "end_time": "2020-03-08T11:45:17.746152Z",
     "start_time": "2020-03-08T11:45:17.733Z"
    }
   },
   "source": [
    "`%%` は剰余（割り算の余り）を計算します。"
   ]
  },
  {
   "cell_type": "code",
   "execution_count": 29,
   "metadata": {
    "ExecuteTime": {
     "end_time": "2020-03-08T11:45:30.829166Z",
     "start_time": "2020-03-08T11:45:30.813Z"
    }
   },
   "outputs": [
    {
     "data": {
      "text/html": [
       "5"
      ],
      "text/latex": [
       "5"
      ],
      "text/markdown": [
       "5"
      ],
      "text/plain": [
       "[1] 5"
      ]
     },
     "metadata": {},
     "output_type": "display_data"
    }
   ],
   "source": [
    "35 %% 6"
   ]
  },
  {
   "cell_type": "markdown",
   "metadata": {},
   "source": [
    "## 論理（Boolean）型\n",
    "\n",
    "事象の真偽を表す論理型（Boolean型）は、Rでは `TRUE`, `FALSE` で表現します。すべて大文字である必要があります。\n",
    "値が等しいことは `==`, 大小比較には `<`, `>`, `<=`, `>=` を用います。"
   ]
  },
  {
   "cell_type": "code",
   "execution_count": 34,
   "metadata": {
    "ExecuteTime": {
     "end_time": "2020-03-08T11:48:57.540511Z",
     "start_time": "2020-03-08T11:48:57.521Z"
    }
   },
   "outputs": [
    {
     "data": {
      "text/html": [
       "TRUE"
      ],
      "text/latex": [
       "TRUE"
      ],
      "text/markdown": [
       "TRUE"
      ],
      "text/plain": [
       "[1] TRUE"
      ]
     },
     "metadata": {},
     "output_type": "display_data"
    }
   ],
   "source": [
    "2 * 3 == 6"
   ]
  },
  {
   "cell_type": "code",
   "execution_count": 36,
   "metadata": {
    "ExecuteTime": {
     "end_time": "2020-03-08T11:49:16.759507Z",
     "start_time": "2020-03-08T11:49:16.737Z"
    }
   },
   "outputs": [
    {
     "data": {
      "text/html": [
       "FALSE"
      ],
      "text/latex": [
       "FALSE"
      ],
      "text/markdown": [
       "FALSE"
      ],
      "text/plain": [
       "[1] FALSE"
      ]
     },
     "metadata": {},
     "output_type": "display_data"
    }
   ],
   "source": [
    "3.14 < 3"
   ]
  },
  {
   "cell_type": "markdown",
   "metadata": {},
   "source": [
    "## 文字列型\n",
    "\n",
    "Rでは文字列を `\"\"` もしくは `''` で定義し、両者に違いはありません。"
   ]
  },
  {
   "cell_type": "code",
   "execution_count": 30,
   "metadata": {
    "ExecuteTime": {
     "end_time": "2020-03-08T11:46:19.091456Z",
     "start_time": "2020-03-08T11:46:19.068Z"
    }
   },
   "outputs": [
    {
     "data": {
      "text/html": [
       "'hello'"
      ],
      "text/latex": [
       "'hello'"
      ],
      "text/markdown": [
       "'hello'"
      ],
      "text/plain": [
       "[1] \"hello\""
      ]
     },
     "metadata": {},
     "output_type": "display_data"
    }
   ],
   "source": [
    "\"hello\""
   ]
  },
  {
   "cell_type": "code",
   "execution_count": 32,
   "metadata": {
    "ExecuteTime": {
     "end_time": "2020-03-08T11:46:48.658559Z",
     "start_time": "2020-03-08T11:46:48.643Z"
    }
   },
   "outputs": [
    {
     "data": {
      "text/html": [
       "TRUE"
      ],
      "text/latex": [
       "TRUE"
      ],
      "text/markdown": [
       "TRUE"
      ],
      "text/plain": [
       "[1] TRUE"
      ]
     },
     "metadata": {},
     "output_type": "display_data"
    }
   ],
   "source": [
    "\"hello\" == 'hello'"
   ]
  },
  {
   "cell_type": "markdown",
   "metadata": {},
   "source": [
    "日本語を用いることも可能です。"
   ]
  },
  {
   "cell_type": "code",
   "execution_count": 31,
   "metadata": {
    "ExecuteTime": {
     "end_time": "2020-03-08T11:46:35.730551Z",
     "start_time": "2020-03-08T11:46:35.712Z"
    }
   },
   "outputs": [
    {
     "data": {
      "text/html": [
       "'Rの基礎'"
      ],
      "text/latex": [
       "'Rの基礎'"
      ],
      "text/markdown": [
       "'Rの基礎'"
      ],
      "text/plain": [
       "[1] \"Rの基礎\""
      ]
     },
     "metadata": {},
     "output_type": "display_data"
    }
   ],
   "source": [
    "'Rの基礎'"
   ]
  },
  {
   "cell_type": "markdown",
   "metadata": {},
   "source": [
    "## 変数\n",
    "\n",
    "変数を定義してそこに値を格納することが可能です。\n",
    "変数の定義には `<-` を用います。`=` を使うことも可能ですが、習慣として `<-` が推奨されることが多いです。\n",
    "\n",
    "変数名は通常アルファベットで始まります。`.` や `_`から始めることも可能ですが、これらの名前は特別な場合に使われることが多いです。変数名の途中に数字を使うことは可能です。\n",
    "\n",
    "定義された変数は後の演算に用いることが可能です。"
   ]
  },
  {
   "cell_type": "code",
   "execution_count": 42,
   "metadata": {
    "ExecuteTime": {
     "end_time": "2020-03-08T11:56:02.907182Z",
     "start_time": "2020-03-08T11:56:02.884Z"
    }
   },
   "outputs": [
    {
     "data": {
      "text/html": [
       "15"
      ],
      "text/latex": [
       "15"
      ],
      "text/markdown": [
       "15"
      ],
      "text/plain": [
       "[1] 15"
      ]
     },
     "metadata": {},
     "output_type": "display_data"
    }
   ],
   "source": [
    "x <- 5\n",
    "x * 3"
   ]
  },
  {
   "cell_type": "code",
   "execution_count": 44,
   "metadata": {
    "ExecuteTime": {
     "end_time": "2020-03-08T11:56:09.282410Z",
     "start_time": "2020-03-08T11:56:09.268Z"
    }
   },
   "outputs": [],
   "source": [
    "tenki <- \"sunny\""
   ]
  },
  {
   "cell_type": "markdown",
   "metadata": {},
   "source": [
    "## ベクトル\n",
    "\n",
    "ベクトルは、複数の同じタイプの値の列を表します。ベクトルは `c`関数（`combine`の略）で作成できます。"
   ]
  },
  {
   "cell_type": "code",
   "execution_count": 45,
   "metadata": {
    "ExecuteTime": {
     "end_time": "2020-03-08T13:59:36.692979Z",
     "start_time": "2020-03-08T13:59:36.670Z"
    }
   },
   "outputs": [
    {
     "data": {
      "text/html": [
       "<ol class=list-inline>\n",
       "\t<li>1</li>\n",
       "\t<li>3</li>\n",
       "\t<li>5</li>\n",
       "</ol>\n"
      ],
      "text/latex": [
       "\\begin{enumerate*}\n",
       "\\item 1\n",
       "\\item 3\n",
       "\\item 5\n",
       "\\end{enumerate*}\n"
      ],
      "text/markdown": [
       "1. 1\n",
       "2. 3\n",
       "3. 5\n",
       "\n",
       "\n"
      ],
      "text/plain": [
       "[1] 1 3 5"
      ]
     },
     "metadata": {},
     "output_type": "display_data"
    },
    {
     "data": {
      "text/html": [
       "<ol class=list-inline>\n",
       "\t<li>2</li>\n",
       "\t<li>4</li>\n",
       "\t<li>6</li>\n",
       "</ol>\n"
      ],
      "text/latex": [
       "\\begin{enumerate*}\n",
       "\\item 2\n",
       "\\item 4\n",
       "\\item 6\n",
       "\\end{enumerate*}\n"
      ],
      "text/markdown": [
       "1. 2\n",
       "2. 4\n",
       "3. 6\n",
       "\n",
       "\n"
      ],
      "text/plain": [
       "[1] 2 4 6"
      ]
     },
     "metadata": {},
     "output_type": "display_data"
    }
   ],
   "source": [
    "v <- c(1, 3, 5)\n",
    "u <- c(2, 4, 6)\n",
    "\n",
    "v\n",
    "u"
   ]
  },
  {
   "cell_type": "markdown",
   "metadata": {},
   "source": [
    "ベクトル同士の演算は原則として要素ごとに行われ、一方のサイズが他方より小さい場合、自動的に拡張されます。"
   ]
  },
  {
   "cell_type": "code",
   "execution_count": 47,
   "metadata": {
    "ExecuteTime": {
     "end_time": "2020-03-08T14:00:28.702388Z",
     "start_time": "2020-03-08T14:00:28.670Z"
    }
   },
   "outputs": [
    {
     "data": {
      "text/html": [
       "<ol class=list-inline>\n",
       "\t<li>3</li>\n",
       "\t<li>7</li>\n",
       "\t<li>11</li>\n",
       "</ol>\n"
      ],
      "text/latex": [
       "\\begin{enumerate*}\n",
       "\\item 3\n",
       "\\item 7\n",
       "\\item 11\n",
       "\\end{enumerate*}\n"
      ],
      "text/markdown": [
       "1. 3\n",
       "2. 7\n",
       "3. 11\n",
       "\n",
       "\n"
      ],
      "text/plain": [
       "[1]  3  7 11"
      ]
     },
     "metadata": {},
     "output_type": "display_data"
    },
    {
     "data": {
      "text/html": [
       "<ol class=list-inline>\n",
       "\t<li>4</li>\n",
       "\t<li>8</li>\n",
       "\t<li>12</li>\n",
       "</ol>\n"
      ],
      "text/latex": [
       "\\begin{enumerate*}\n",
       "\\item 4\n",
       "\\item 8\n",
       "\\item 12\n",
       "\\end{enumerate*}\n"
      ],
      "text/markdown": [
       "1. 4\n",
       "2. 8\n",
       "3. 12\n",
       "\n",
       "\n"
      ],
      "text/plain": [
       "[1]  4  8 12"
      ]
     },
     "metadata": {},
     "output_type": "display_data"
    }
   ],
   "source": [
    "u + v\n",
    "\n",
    "2 * u"
   ]
  },
  {
   "cell_type": "markdown",
   "metadata": {
    "ExecuteTime": {
     "end_time": "2020-03-08T14:16:07.532429Z",
     "start_time": "2020-03-08T14:16:07.518Z"
    }
   },
   "source": [
    "ベクトルの要素を取り出すには、`[]`を用いて要素のインデックスを指定します。インデックスは1始まりです。"
   ]
  },
  {
   "cell_type": "code",
   "execution_count": 65,
   "metadata": {
    "ExecuteTime": {
     "end_time": "2020-03-08T14:16:16.016618Z",
     "start_time": "2020-03-08T14:16:15.996Z"
    }
   },
   "outputs": [
    {
     "data": {
      "text/html": [
       "2"
      ],
      "text/latex": [
       "2"
      ],
      "text/markdown": [
       "2"
      ],
      "text/plain": [
       "[1] 2"
      ]
     },
     "metadata": {},
     "output_type": "display_data"
    },
    {
     "data": {
      "text/html": [
       "5"
      ],
      "text/latex": [
       "5"
      ],
      "text/markdown": [
       "5"
      ],
      "text/plain": [
       "[1] 5"
      ]
     },
     "metadata": {},
     "output_type": "display_data"
    }
   ],
   "source": [
    "u[1]\n",
    "v[3]"
   ]
  },
  {
   "cell_type": "markdown",
   "metadata": {},
   "source": [
    "インデックスとしてベクトルを指定することで対応するベクトルを取り出すことも可能です。同じインデックスを繰り返しても大丈夫です。"
   ]
  },
  {
   "cell_type": "code",
   "execution_count": 66,
   "metadata": {
    "ExecuteTime": {
     "end_time": "2020-03-08T14:17:16.408461Z",
     "start_time": "2020-03-08T14:17:16.388Z"
    }
   },
   "outputs": [
    {
     "data": {
      "text/html": [
       "<ol class=list-inline>\n",
       "\t<li>6</li>\n",
       "\t<li>4</li>\n",
       "\t<li>2</li>\n",
       "</ol>\n"
      ],
      "text/latex": [
       "\\begin{enumerate*}\n",
       "\\item 6\n",
       "\\item 4\n",
       "\\item 2\n",
       "\\end{enumerate*}\n"
      ],
      "text/markdown": [
       "1. 6\n",
       "2. 4\n",
       "3. 2\n",
       "\n",
       "\n"
      ],
      "text/plain": [
       "[1] 6 4 2"
      ]
     },
     "metadata": {},
     "output_type": "display_data"
    },
    {
     "data": {
      "text/html": [
       "<ol class=list-inline>\n",
       "\t<li>1</li>\n",
       "\t<li>1</li>\n",
       "\t<li>3</li>\n",
       "\t<li>3</li>\n",
       "\t<li>5</li>\n",
       "\t<li>5</li>\n",
       "</ol>\n"
      ],
      "text/latex": [
       "\\begin{enumerate*}\n",
       "\\item 1\n",
       "\\item 1\n",
       "\\item 3\n",
       "\\item 3\n",
       "\\item 5\n",
       "\\item 5\n",
       "\\end{enumerate*}\n"
      ],
      "text/markdown": [
       "1. 1\n",
       "2. 1\n",
       "3. 3\n",
       "4. 3\n",
       "5. 5\n",
       "6. 5\n",
       "\n",
       "\n"
      ],
      "text/plain": [
       "[1] 1 1 3 3 5 5"
      ]
     },
     "metadata": {},
     "output_type": "display_data"
    }
   ],
   "source": [
    "u[c(3,2,1)]\n",
    "v[c(1,1,2,2,3,3)]"
   ]
  },
  {
   "cell_type": "markdown",
   "metadata": {},
   "source": [
    "## ループ\n",
    "\n",
    "繰り返し処理にはループを用います。ループの1つ目は、`for`文で、`for (i in ...)` の形で定義されます。ここで `i` はループ対象の値を格納する変数で、`...` 部分にはループ対象となる列（ベクトル）が入ります。\n",
    "下の例では、1から10までの自然数の和を計算しています。"
   ]
  },
  {
   "cell_type": "code",
   "execution_count": 51,
   "metadata": {
    "ExecuteTime": {
     "end_time": "2020-03-08T14:02:19.979593Z",
     "start_time": "2020-03-08T14:02:19.957Z"
    }
   },
   "outputs": [
    {
     "data": {
      "text/html": [
       "55"
      ],
      "text/latex": [
       "55"
      ],
      "text/markdown": [
       "55"
      ],
      "text/plain": [
       "[1] 55"
      ]
     },
     "metadata": {},
     "output_type": "display_data"
    }
   ],
   "source": [
    "s <- 0\n",
    "for (i in 1:10) {\n",
    "  s <- s + i\n",
    "}\n",
    "s"
   ]
  },
  {
   "cell_type": "markdown",
   "metadata": {},
   "source": [
    "もう1つのループ表現として `while` が存在します。これは、ある条件が満たされる間、操作を繰り返します。\n",
    "下の例は、`while`を使って自然数の和を計算します。"
   ]
  },
  {
   "cell_type": "code",
   "execution_count": 54,
   "metadata": {
    "ExecuteTime": {
     "end_time": "2020-03-08T14:02:40.169943Z",
     "start_time": "2020-03-08T14:02:40.148Z"
    }
   },
   "outputs": [
    {
     "data": {
      "text/html": [
       "55"
      ],
      "text/latex": [
       "55"
      ],
      "text/markdown": [
       "55"
      ],
      "text/plain": [
       "[1] 55"
      ]
     },
     "metadata": {},
     "output_type": "display_data"
    }
   ],
   "source": [
    "s <- 0\n",
    "i <- 1\n",
    "while (i <= 10) {\n",
    "  s <- s + i\n",
    "  i <- i + 1\n",
    "}\n",
    "s"
   ]
  },
  {
   "cell_type": "markdown",
   "metadata": {},
   "source": [
    "## 条件分岐\n",
    "\n",
    "条件に応じて操作を変えるには、`if () ... else if (...) else ...` 文を利用します。\n",
    "\n",
    "下の例は、xの値が8である場合にメッセージを表示します。`cat`は文字列を表示する関数です（関数については次節で扱います）。"
   ]
  },
  {
   "cell_type": "code",
   "execution_count": 60,
   "metadata": {
    "ExecuteTime": {
     "end_time": "2020-03-08T14:07:13.252854Z",
     "start_time": "2020-03-08T14:07:13.229Z"
    }
   },
   "outputs": [
    {
     "name": "stdout",
     "output_type": "stream",
     "text": [
      "x is 8!\n"
     ]
    }
   ],
   "source": [
    "x <- 8\n",
    "if (x == 8) {\n",
    "  cat(\"x is 8!\\n\")\n",
    "}"
   ]
  },
  {
   "cell_type": "markdown",
   "metadata": {
    "ExecuteTime": {
     "end_time": "2020-03-08T14:04:49.452301Z",
     "start_time": "2020-03-08T14:04:49.437Z"
    }
   },
   "source": [
    "下の文は何も出力しません。`x`が8でないため、行われるべき操作が定義されていないためです。"
   ]
  },
  {
   "cell_type": "code",
   "execution_count": 56,
   "metadata": {
    "ExecuteTime": {
     "end_time": "2020-03-08T14:04:08.152882Z",
     "start_time": "2020-03-08T14:04:08.133Z"
    }
   },
   "outputs": [],
   "source": [
    "x <- 7\n",
    "if (x == 8) {\n",
    "  cat(\"x is 8!\\n\")\n",
    "}"
   ]
  },
  {
   "cell_type": "markdown",
   "metadata": {},
   "source": [
    "次のように記述すると、`x == 8` に合わない場合にも情報が出力されます。"
   ]
  },
  {
   "cell_type": "code",
   "execution_count": 58,
   "metadata": {
    "ExecuteTime": {
     "end_time": "2020-03-08T14:05:12.143419Z",
     "start_time": "2020-03-08T14:05:12.129Z"
    }
   },
   "outputs": [
    {
     "name": "stdout",
     "output_type": "stream",
     "text": [
      "x is not 8...\n"
     ]
    }
   ],
   "source": [
    "x <- 7\n",
    "if (x == 8) {\n",
    "  cat(\"x is 8!\\n\")\n",
    "} else {\n",
    "  cat(\"x is not 8...\\n\")  \n",
    "}"
   ]
  },
  {
   "cell_type": "markdown",
   "metadata": {},
   "source": [
    "## 関数\n",
    "\n",
    "関数は、ある入力に対し特定のルールにしたがって答えを出力する箱のようなものです。たとえば、$f(x) = 3x + 2$ という関数は、実数$x$に対して、$3x + 2$を返します。プログラミングでは、数値以外のさまざまな入力値・出力値を持つ関数を定義し、利用します。\n",
    "関数は、主に繰り返し行われる処理について定義されることが多いです。その処理部分を切り分けることで、コード全体が見やすくなるというメリットがあります。\n",
    "\n",
    "関数は `function(<引数１>, <引数2>, ...)` という形で定義します。ここで引数とは入力値と同義です。関数は変数として、名前をつけて格納することができます。そうすることで、同じ関数を繰り返し利用することが可能になります。\n",
    "\n",
    "下の例では、入力値 `x`が10未満であるかどうかを判定する関数を定義しています。"
   ]
  },
  {
   "cell_type": "code",
   "execution_count": 63,
   "metadata": {
    "ExecuteTime": {
     "end_time": "2020-03-08T14:15:04.855141Z",
     "start_time": "2020-03-08T14:15:04.824Z"
    }
   },
   "outputs": [
    {
     "data": {
      "text/html": [
       "TRUE"
      ],
      "text/latex": [
       "TRUE"
      ],
      "text/markdown": [
       "TRUE"
      ],
      "text/plain": [
       "[1] TRUE"
      ]
     },
     "metadata": {},
     "output_type": "display_data"
    },
    {
     "data": {
      "text/html": [
       "FALSE"
      ],
      "text/latex": [
       "FALSE"
      ],
      "text/markdown": [
       "FALSE"
      ],
      "text/plain": [
       "[1] FALSE"
      ]
     },
     "metadata": {},
     "output_type": "display_data"
    },
    {
     "data": {
      "text/html": [
       "FALSE"
      ],
      "text/latex": [
       "FALSE"
      ],
      "text/markdown": [
       "FALSE"
      ],
      "text/plain": [
       "[1] FALSE"
      ]
     },
     "metadata": {},
     "output_type": "display_data"
    }
   ],
   "source": [
    "less_than_10 <- function(x) {\n",
    "  x < 10  \n",
    "}\n",
    "\n",
    "less_than_10(5)\n",
    "less_than_10(13)\n",
    "less_than_10(10)"
   ]
  },
  {
   "cell_type": "markdown",
   "metadata": {},
   "source": [
    "## 外部ライブラリの利用\n",
    "\n",
    "Rの標準機能は分析機能としては不十分であるケースが多いため、通常外部ライブラリを利用します。ライブラリの読み込みには `library`関数を利用します。下の例では、`readr`ライブラリを読み込み、`read_csv`関数が使えるようになったことを確認しています。"
   ]
  },
  {
   "cell_type": "code",
   "execution_count": 75,
   "metadata": {
    "ExecuteTime": {
     "end_time": "2020-03-08T14:21:02.468930Z",
     "start_time": "2020-03-08T14:21:02.443Z"
    }
   },
   "outputs": [
    {
     "data": {
      "text/html": [
       "<pre class=language-r><code>function (file, col_names = TRUE, col_types = NULL, locale = default_locale(), \n",
       "<span style=white-space:pre-wrap>    na = c(\"\", \"NA\"), quoted_na = TRUE, quote = \"\\\"\", comment = \"\", </span>\n",
       "<span style=white-space:pre-wrap>    trim_ws = TRUE, skip = 0, n_max = Inf, guess_max = min(1000, </span>\n",
       "<span style=white-space:pre-wrap>        n_max), progress = show_progress(), skip_empty_rows = TRUE) </span>\n",
       "{\n",
       "<span style=white-space:pre-wrap>    tokenizer &lt;- tokenizer_csv(na = na, quoted_na = quoted_na, </span>\n",
       "<span style=white-space:pre-wrap>        quote = quote, comment = comment, trim_ws = trim_ws, </span>\n",
       "<span style=white-space:pre-wrap>        skip_empty_rows = skip_empty_rows)</span>\n",
       "<span style=white-space:pre-wrap>    read_delimited(file, tokenizer, col_names = col_names, col_types = col_types, </span>\n",
       "<span style=white-space:pre-wrap>        locale = locale, skip = skip, skip_empty_rows = skip_empty_rows, </span>\n",
       "<span style=white-space:pre-wrap>        comment = comment, n_max = n_max, guess_max = guess_max, </span>\n",
       "<span style=white-space:pre-wrap>        progress = progress)</span>\n",
       "}</code></pre>"
      ],
      "text/latex": [
       "\\begin{minted}{r}\n",
       "function (file, col\\_names = TRUE, col\\_types = NULL, locale = default\\_locale(), \n",
       "    na = c(\"\", \"NA\"), quoted\\_na = TRUE, quote = \"\\textbackslash{}\"\", comment = \"\", \n",
       "    trim\\_ws = TRUE, skip = 0, n\\_max = Inf, guess\\_max = min(1000, \n",
       "        n\\_max), progress = show\\_progress(), skip\\_empty\\_rows = TRUE) \n",
       "\\{\n",
       "    tokenizer <- tokenizer\\_csv(na = na, quoted\\_na = quoted\\_na, \n",
       "        quote = quote, comment = comment, trim\\_ws = trim\\_ws, \n",
       "        skip\\_empty\\_rows = skip\\_empty\\_rows)\n",
       "    read\\_delimited(file, tokenizer, col\\_names = col\\_names, col\\_types = col\\_types, \n",
       "        locale = locale, skip = skip, skip\\_empty\\_rows = skip\\_empty\\_rows, \n",
       "        comment = comment, n\\_max = n\\_max, guess\\_max = guess\\_max, \n",
       "        progress = progress)\n",
       "\\}\n",
       "\\end{minted}"
      ],
      "text/markdown": [
       "```r\n",
       "function (file, col_names = TRUE, col_types = NULL, locale = default_locale(), \n",
       "    na = c(\"\", \"NA\"), quoted_na = TRUE, quote = \"\\\"\", comment = \"\", \n",
       "    trim_ws = TRUE, skip = 0, n_max = Inf, guess_max = min(1000, \n",
       "        n_max), progress = show_progress(), skip_empty_rows = TRUE) \n",
       "{\n",
       "    tokenizer <- tokenizer_csv(na = na, quoted_na = quoted_na, \n",
       "        quote = quote, comment = comment, trim_ws = trim_ws, \n",
       "        skip_empty_rows = skip_empty_rows)\n",
       "    read_delimited(file, tokenizer, col_names = col_names, col_types = col_types, \n",
       "        locale = locale, skip = skip, skip_empty_rows = skip_empty_rows, \n",
       "        comment = comment, n_max = n_max, guess_max = guess_max, \n",
       "        progress = progress)\n",
       "}\n",
       "```"
      ],
      "text/plain": [
       "function (file, col_names = TRUE, col_types = NULL, locale = default_locale(), \n",
       "    na = c(\"\", \"NA\"), quoted_na = TRUE, quote = \"\\\"\", comment = \"\", \n",
       "    trim_ws = TRUE, skip = 0, n_max = Inf, guess_max = min(1000, \n",
       "        n_max), progress = show_progress(), skip_empty_rows = TRUE) \n",
       "{\n",
       "    tokenizer <- tokenizer_csv(na = na, quoted_na = quoted_na, \n",
       "        quote = quote, comment = comment, trim_ws = trim_ws, \n",
       "        skip_empty_rows = skip_empty_rows)\n",
       "    read_delimited(file, tokenizer, col_names = col_names, col_types = col_types, \n",
       "        locale = locale, skip = skip, skip_empty_rows = skip_empty_rows, \n",
       "        comment = comment, n_max = n_max, guess_max = guess_max, \n",
       "        progress = progress)\n",
       "}\n",
       "<bytecode: 0x55af3742de98>\n",
       "<environment: namespace:readr>"
      ]
     },
     "metadata": {},
     "output_type": "display_data"
    }
   ],
   "source": [
    "library(readr)\n",
    "read_csv"
   ]
  },
  {
   "cell_type": "code",
   "execution_count": null,
   "metadata": {},
   "outputs": [],
   "source": []
  }
 ],
 "metadata": {
  "kernelspec": {
   "display_name": "R",
   "language": "R",
   "name": "ir"
  },
  "language_info": {
   "codemirror_mode": "r",
   "file_extension": ".r",
   "mimetype": "text/x-r-source",
   "name": "R",
   "pygments_lexer": "r",
   "version": "3.6.2"
  },
  "toc": {
   "base_numbering": 1,
   "nav_menu": {},
   "number_sections": true,
   "sideBar": true,
   "skip_h1_title": false,
   "title_cell": "Table of Contents",
   "title_sidebar": "Contents",
   "toc_cell": false,
   "toc_position": {},
   "toc_section_display": true,
   "toc_window_display": true
  }
 },
 "nbformat": 4,
 "nbformat_minor": 4
}
