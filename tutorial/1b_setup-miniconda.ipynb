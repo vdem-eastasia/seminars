{
 "cells": [
  {
   "cell_type": "markdown",
   "metadata": {},
   "source": [
    "# Minicondaをインストール\n",
    "\n",
    "[Miniconda](https://docs.conda.io/projects/conda/en/latest/#)は、Pythonのパッケージマネージャーで、Pythonライブラリ間だけでなく外部ソフトウェアとの依存関係も含めて包括的に処理してくれる特徴があります。"
   ]
  },
  {
   "cell_type": "markdown",
   "metadata": {},
   "source": [
    "## Windows\n",
    "\n",
    "[Miniconda](https://docs.conda.io/en/latest/miniconda.html)のページから、Windows用の .exeファイルをダウンロードします。2と3がありますが、Miniconda3を選択します。\n",
    "これを実行するとインストーラーが起動するので、これに従ってインストールします。特にデフォルトの設定を変える必要はありません。\n",
    "\n",
    "<TODO: 確認>"
   ]
  },
  {
   "cell_type": "markdown",
   "metadata": {
    "ExecuteTime": {
     "end_time": "2020-02-01T22:53:25.726202Z",
     "start_time": "2020-02-01T22:53:25.721010Z"
    }
   },
   "source": [
    "## Mac OSX\n",
    "\n",
    "[Miniconda](https://docs.conda.io/en/latest/miniconda.html)のページから、Mac OSX用のbashWindows用の .exeファイルをダウンロードします。2と3がありますが、Miniconda3を選択します。\n",
    "\n",
    "Terminalから、下記コマンドでインストールスクリプトが実行されます。\n",
    "\n",
    "```bash\n",
    "$ bash https://repo.anaconda.com/miniconda/Miniconda3-latest-Linux-x86_64.sh\n",
    "```\n",
    "\n",
    "途中、ライセンス条項に同意する必要が有ります。また、\n",
    "\n",
    "```\n",
    "Do you wish the installer to initialize Miniconda3\n",
    "by running conda init? [yes|no]\n",
    "```\n",
    "\n",
    "に対しては `yes` と入力します。そうすることで、次回以降、Terminalを立ち上げた時にすぐに condaが使える状態になります。\n"
   ]
  },
  {
   "cell_type": "markdown",
   "metadata": {},
   "source": [
    "## Linux\n",
    "\n",
    "[Miniconda](https://docs.conda.io/en/latest/miniconda.html)のページから、Linux用のBashスクリプトをダウンロードします。2と3がありますが、Miniconda3を選択します。\n",
    "\n",
    "Terminalから、下記コマンドでインストールスクリプトが実行されます。\n",
    "\n",
    "```bash\n",
    "$ bash https://repo.anaconda.com/miniconda/Miniconda3-latest-Linux-x86_64.sh\n",
    "```\n",
    "\n",
    "途中、ライセンス条項に同意する必要が有ります。また、\n",
    "\n",
    "```\n",
    "Do you wish the installer to initialize Miniconda3\n",
    "by running conda init? [yes|no]\n",
    "```\n",
    "\n",
    "に対しては `yes` と入力します。そうすることで、次回以降、Terminalを立ち上げた時にすぐに condaが使える状態になります。\n"
   ]
  },
  {
   "cell_type": "markdown",
   "metadata": {},
   "source": [
    "# Conda の起動確認\n",
    "\n",
    "## Windows\n",
    "\n",
    "Windowsでは、Startメニューから Anaconda Prompt を選ぶことで、Condaの使える端末を起動します。Anaconda Promptが見つかればインストール完了です。"
   ]
  },
  {
   "cell_type": "markdown",
   "metadata": {},
   "source": [
    "## Mac OSX, Linux\n",
    "\n",
    "Terminalを開いたときに、コンソールの左端に `(base)` がついていれば、Condaが使える状態になっています。また、\n",
    "\n",
    "\n",
    "```bash\n",
    "$ which conda\n",
    "```\n",
    "\n",
    "で空でない答えが表示されていれば、Condaコマンドがインストールされていることがわかります。"
   ]
  }
 ],
 "metadata": {
  "kernelspec": {
   "display_name": "Python 3",
   "language": "python",
   "name": "python3"
  },
  "language_info": {
   "codemirror_mode": {
    "name": "ipython",
    "version": 3
   },
   "file_extension": ".py",
   "mimetype": "text/x-python",
   "name": "python",
   "nbconvert_exporter": "python",
   "pygments_lexer": "ipython3",
   "version": "3.8.1"
  },
  "toc": {
   "base_numbering": 1,
   "nav_menu": {},
   "number_sections": true,
   "sideBar": true,
   "skip_h1_title": false,
   "title_cell": "Table of Contents",
   "title_sidebar": "Contents",
   "toc_cell": false,
   "toc_position": {},
   "toc_section_display": true,
   "toc_window_display": false
  }
 },
 "nbformat": 4,
 "nbformat_minor": 2
}
